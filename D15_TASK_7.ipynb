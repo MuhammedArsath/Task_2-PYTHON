{
  "nbformat": 4,
  "nbformat_minor": 0,
  "metadata": {
    "colab": {
      "name": "D15_TASK-7",
      "provenance": []
    },
    "kernelspec": {
      "name": "python3",
      "display_name": "Python 3"
    },
    "language_info": {
      "name": "python"
    }
  },
  "cells": [
    {
      "cell_type": "code",
      "execution_count": 1,
      "metadata": {
        "id": "LKRN05ZH8M4W"
      },
      "outputs": [],
      "source": [
        "import pandas as pd\n",
        "import matplotlib.pyplot as plt\n",
        "import numpy as np\n",
        "from sklearn import linear_model\n",
        "import seaborn as sns\n",
        "%matplotlib inline"
      ]
    },
    {
      "cell_type": "code",
      "source": [
        "df = pd.read_fwf(\"salary.txt\", header=None, \n",
        "                 names=[\"Sex\", \"Rank\", \"Year\", \"Degree\", \"YSdeg\", \"Salary\"])\n",
        "\n",
        "independent = df[[\"Sex\", \"Rank\", \"Year\", \"Degree\", \"YSdeg\"]]\n",
        "dependent = df.Salary"
      ],
      "metadata": {
        "id": "PZ4fRYWS8avs"
      },
      "execution_count": 3,
      "outputs": []
    },
    {
      "cell_type": "code",
      "source": [
        "salary_reg = linear_model.LinearRegression()\n",
        "salary_reg.fit(independent, dependent)\n",
        "\n",
        "all_five = salary_reg.score(independent, dependent)\n",
        "all_five_intercept_coefficient = (salary_reg.intercept_, salary_reg.coef_)\n",
        "print(\"All Five R**2 Score: \", all_five)\n",
        "print(\"All Five Intercept & Coefficients: \", all_five_intercept_coefficient)"
      ],
      "metadata": {
        "colab": {
          "base_uri": "https://localhost:8080/"
        },
        "id": "pMYJRkFU8fj3",
        "outputId": "5f8afa6a-7ffa-4180-a645-e6adc995a30d"
      },
      "execution_count": 4,
      "outputs": [
        {
          "output_type": "stream",
          "name": "stdout",
          "text": [
            "All Five R**2 Score:  0.8547180674410969\n",
            "All Five Intercept & Coefficients:  (11410.14654725559, array([ 1241.7924996 ,  5586.18144952,   482.85976783, -1331.64406341,\n",
            "        -128.79057354]))\n"
          ]
        }
      ]
    },
    {
      "cell_type": "code",
      "source": [
        "independent = df[[\"Sex\", \"Rank\", \"Year\", \"Degree\"]]\n",
        "salary_reg = linear_model.LinearRegression()\n",
        "salary_reg.fit(independent, dependent)\n",
        "\n",
        "s_r_y_d = salary_reg.score(independent, dependent)\n",
        "s_r_y_d_intercept_coefficient = (salary_reg.intercept_, salary_reg.coef_)\n",
        "print(\"s_r_y_d R**2 Score: \", s_r_y_d)\n",
        "print(\"s_r_y_d Intercept & Coefficients: \", s_r_y_d_intercept_coefficient)"
      ],
      "metadata": {
        "colab": {
          "base_uri": "https://localhost:8080/"
        },
        "id": "0LZozsvn8pId",
        "outputId": "6a8d4ad2-1eee-4f5d-b046-a5c333e6bc1b"
      },
      "execution_count": 5,
      "outputs": [
        {
          "output_type": "stream",
          "name": "stdout",
          "text": [
            "s_r_y_d R**2 Score:  0.845547641297936\n",
            "s_r_y_d Intercept & Coefficients:  (11101.27364777424, array([ 608.10026674, 4753.16913715,  391.84035843, -134.21945255]))\n"
          ]
        }
      ]
    },
    {
      "cell_type": "code",
      "source": [
        "independent = df[[\"Sex\", \"Rank\", \"Year\"]]\n",
        "salary_reg = linear_model.LinearRegression()\n",
        "salary_reg.fit(independent, dependent)\n",
        "\n",
        "s_r_y = salary_reg.score(independent, dependent)\n",
        "s_r_y_intercept_coefficient = (salary_reg.intercept_, salary_reg.coef_)\n",
        "print(\"s_r_y R**2 Score: \", s_r_y)\n",
        "print(\"s_r_y Intercept & Coefficients: \", s_r_y_intercept_coefficient)"
      ],
      "metadata": {
        "colab": {
          "base_uri": "https://localhost:8080/"
        },
        "id": "mnc4Y4Ck8tIX",
        "outputId": "d1817639-15cb-472b-8541-b3f5f0f01321"
      },
      "execution_count": 6,
      "outputs": [
        {
          "output_type": "stream",
          "name": "stdout",
          "text": [
            "s_r_y R**2 Score:  0.8454319861987166\n",
            "s_r_y Intercept & Coefficients:  (11011.762865385323, array([ 603.77322722, 4747.1829411 ,  393.86147574]))\n"
          ]
        }
      ]
    },
    {
      "cell_type": "code",
      "source": [
        "independent = df[[\"Sex\", \"Rank\"]]\n",
        "salary_reg = linear_model.LinearRegression()\n",
        "salary_reg.fit(independent, dependent)\n",
        "\n",
        "s_r = salary_reg.score(independent, dependent)\n",
        "s_r_intercept_coefficient = (salary_reg.intercept_, salary_reg.coef_)\n",
        "print(\"s_r R**2 Score: \", s_r)\n",
        "print(\"s_r Intercept & Coefficients: \", s_r_intercept_coefficient)"
      ],
      "metadata": {
        "colab": {
          "base_uri": "https://localhost:8080/"
        },
        "id": "JBDgU_ut8xY6",
        "outputId": "338732ba-e882-4ddd-86f7-2af25fa588bc"
      },
      "execution_count": 7,
      "outputs": [
        {
          "output_type": "stream",
          "name": "stdout",
          "text": [
            "s_r R**2 Score:  0.7554917749443395\n",
            "s_r Intercept & Coefficients:  (12041.938232830831, array([-738.12667504, 5864.44325796]))\n"
          ]
        }
      ]
    },
    {
      "cell_type": "code",
      "source": [
        "independent = df[[\"Sex\"]]\n",
        "salary_reg = linear_model.LinearRegression()\n",
        "salary_reg.fit(independent, dependent)\n",
        "\n",
        "sex = salary_reg.score(independent, dependent)\n",
        "sex_intercept_coefficient = (salary_reg.intercept_, salary_reg.coef_)\n",
        "print(\"sex R**2 Score: \", sex)\n",
        "print(\"sex Intercept & Coefficients: \", sex_intercept_coefficient)"
      ],
      "metadata": {
        "colab": {
          "base_uri": "https://localhost:8080/"
        },
        "id": "PfhwBSNV83Ed",
        "outputId": "734d725e-4da4-42df-b1db-7f78a14dfe63"
      },
      "execution_count": 8,
      "outputs": [
        {
          "output_type": "stream",
          "name": "stdout",
          "text": [
            "sex R**2 Score:  0.06389892583288004\n",
            "sex Intercept & Coefficients:  (24696.78947368421, array([-3339.64661654]))\n"
          ]
        }
      ]
    },
    {
      "cell_type": "code",
      "source": [
        ""
      ],
      "metadata": {
        "id": "nKuYV-CW86vC"
      },
      "execution_count": null,
      "outputs": []
    }
  ]
}